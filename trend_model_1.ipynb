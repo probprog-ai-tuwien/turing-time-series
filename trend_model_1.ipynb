{
 "cells": [
  {
   "cell_type": "code",
   "execution_count": null,
   "id": "0e1c8b81-3d43-428a-8c4b-65db0b529152",
   "metadata": {
    "tags": []
   },
   "outputs": [],
   "source": [
    "using Turing\n",
    "using StatsPlots\n",
    "using Optim"
   ]
  },
  {
   "cell_type": "code",
   "execution_count": null,
   "id": "caec7a51-afbc-4e5b-b37e-97421ddd6ae5",
   "metadata": {
    "tags": []
   },
   "outputs": [],
   "source": [
    "PRINT_PROGRESS = true\n",
    "include(\"read_data.jl\")\n",
    "include(\"utils.jl\")\n",
    "include(\"lecture/plot_utils.jl\");"
   ]
  },
  {
   "cell_type": "markdown",
   "id": "7a7cec44-0290-4312-8c45-e29954f4ee2b",
   "metadata": {},
   "source": [
    "### Dataset: World-Wide Monthly Air Passengers"
   ]
  },
  {
   "cell_type": "code",
   "execution_count": null,
   "id": "1816274d-b39e-41ef-bde0-f97cced3be82",
   "metadata": {
    "tags": []
   },
   "outputs": [],
   "source": [
    "base_plot(air_passengers_2013_2018)"
   ]
  },
  {
   "cell_type": "code",
   "execution_count": null,
   "id": "e5a520f1-46c9-47d1-ba5b-3a8b7e49d870",
   "metadata": {
    "tags": []
   },
   "outputs": [],
   "source": [
    "upwards_trend_data = air_passengers_2013_2018[2009 .<= air_passengers_2013_2018[!,\"Year\"],:]\n",
    "base_plot(upwards_trend_data)\n",
    "\n",
    "x = upwards_trend_data[!,\"Date\"]\n",
    "y = upwards_trend_data[!,\"Total\"];"
   ]
  },
  {
   "cell_type": "code",
   "execution_count": null,
   "id": "22764b9e-adf6-4e49-8d1f-72fe53ec9247",
   "metadata": {
    "tags": []
   },
   "outputs": [],
   "source": [
    "@model function trend_model(x::Vector{Float64}, y::Vector{Float64})\n",
    "    # priors are guided by data but chosen to be very broad\n",
    "    # (we do not want to favour any specific values)\n",
    "    slope ~ Normal(0,3)\n",
    "    intercept ~ Normal(6,3)\n",
    "    # error models how noisy the data is, it has to be >0 => InverseGamma\n",
    "    error ~ InverseGamma(2,3)\n",
    "    \n",
    "    for i in eachindex(y)\n",
    "        # shift the x-axis by start year 0...16 instead of 2003...2019\n",
    "        y[i] ~ Normal(slope * (x[i] - x[1]) + intercept, error+1e-5)\n",
    "    end\n",
    "end"
   ]
  },
  {
   "cell_type": "code",
   "execution_count": null,
   "id": "ee27e43a-e045-41e7-afe8-9e227322a8df",
   "metadata": {
    "tags": []
   },
   "outputs": [],
   "source": [
    "Turing.Random.seed!(0)\n",
    "res = sample(trend_model(x, y), NUTS(), 3000, progress=PRINT_PROGRESS)\n",
    "res"
   ]
  },
  {
   "cell_type": "code",
   "execution_count": null,
   "id": "c808a82e-1b7b-4e68-ac60-64023442e3cb",
   "metadata": {},
   "outputs": [],
   "source": [
    "plot(res)"
   ]
  },
  {
   "cell_type": "code",
   "execution_count": null,
   "id": "9ce4bed6-e1a0-4d58-b3f8-9db3d1c08869",
   "metadata": {
    "tags": []
   },
   "outputs": [],
   "source": [
    "_, map_vector = get_map(res)\n",
    "plot_trend_model_1_map(upwards_trend_data, map_vector)"
   ]
  },
  {
   "cell_type": "code",
   "execution_count": null,
   "id": "7fa8db02-78c0-40d7-b94e-2a30426e8cb9",
   "metadata": {
    "tags": []
   },
   "outputs": [],
   "source": [
    "plot_trend_model_1_posterior(upwards_trend_data, res[1:30:end])"
   ]
  }
 ],
 "metadata": {
  "kernelspec": {
   "display_name": "Julia 1.9.1",
   "language": "julia",
   "name": "julia-1.9"
  },
  "language_info": {
   "file_extension": ".jl",
   "mimetype": "application/julia",
   "name": "julia",
   "version": "1.9.1"
  }
 },
 "nbformat": 4,
 "nbformat_minor": 5
}
