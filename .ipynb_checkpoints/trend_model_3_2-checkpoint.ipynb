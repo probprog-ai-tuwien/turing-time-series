{
 "cells": [
  {
   "cell_type": "code",
   "execution_count": null,
   "id": "0e1c8b81-3d43-428a-8c4b-65db0b529152",
   "metadata": {
    "tags": []
   },
   "outputs": [],
   "source": [
    "using Turing\n",
    "using StatsPlots\n",
    "using Optim"
   ]
  },
  {
   "cell_type": "code",
   "execution_count": null,
   "id": "caec7a51-afbc-4e5b-b37e-97421ddd6ae5",
   "metadata": {
    "tags": []
   },
   "outputs": [],
   "source": [
    "PRINT_PROGRESS = true\n",
    "include(\"read_data.jl\")\n",
    "include(\"utils.jl\")\n",
    "include(\"lecture/plot_utils.jl\");"
   ]
  },
  {
   "cell_type": "markdown",
   "id": "7a7cec44-0290-4312-8c45-e29954f4ee2b",
   "metadata": {},
   "source": [
    "### Dataset: World-Wide Monthly Air Passengers"
   ]
  },
  {
   "cell_type": "code",
   "execution_count": null,
   "id": "1816274d-b39e-41ef-bde0-f97cced3be82",
   "metadata": {
    "tags": []
   },
   "outputs": [],
   "source": [
    "base_plot(air_passengers_2013_2018)"
   ]
  },
  {
   "cell_type": "code",
   "execution_count": null,
   "id": "e5a520f1-46c9-47d1-ba5b-3a8b7e49d870",
   "metadata": {
    "tags": []
   },
   "outputs": [],
   "source": [
    "# upwards_trend_data = air_passengers_2013_2018[2009 .<= air_passengers_2013_2018[!,\"Year\"],:]\n",
    "# base_plot(upwards_trend_data)\n",
    "\n",
    "# x = upwards_trend_data[!,\"Date\"]\n",
    "# y = upwards_trend_data[!,\"Total\"];\n",
    "\n",
    "x = air_passengers_2013_2018[!,\"Date\"]\n",
    "y = air_passengers_2013_2018[!,\"Total\"];"
   ]
  },
  {
   "cell_type": "code",
   "execution_count": null,
   "id": "22764b9e-adf6-4e49-8d1f-72fe53ec9247",
   "metadata": {
    "tags": []
   },
   "outputs": [],
   "source": [
    "@model function trend_model(x::Vector{Float64}, y::Vector{Float64})\n",
    "    slope ~ Normal(0,3)\n",
    "    intercept ~ Normal(6,3)\n",
    "    error ~ InverseGamma(2,3)\n",
    "    tau ~ InverseGamma(1,1)\n",
    "\n",
    "    # UPGRADE: fix one changepoint per year, put restrictive Laplace prior on adjustments\n",
    "    n_changepoints = length(y) ÷ 12\n",
    "    adjustments ~ filldist(Laplace(0,tau+1e-5), n_changepoints)\n",
    "    \n",
    "    k = slope\n",
    "    m = intercept\n",
    "    j = 1\n",
    "    for i in eachindex(y)\n",
    "        # UPGRADE: adjust slope and intercept at beginning of each year\n",
    "        if i % 12 == 1\n",
    "            k += adjustments[j]\n",
    "            m -= (x[i] - x[1]) * adjustments[j]\n",
    "            j += 1\n",
    "        end\n",
    "        y[i] ~ Normal(k * (x[i] - x[1]) + m, error+1e-5)\n",
    "    end\n",
    "end"
   ]
  },
  {
   "cell_type": "code",
   "execution_count": null,
   "id": "ee27e43a-e045-41e7-afe8-9e227322a8df",
   "metadata": {
    "tags": []
   },
   "outputs": [],
   "source": [
    "Turing.Random.seed!(0)\n",
    "res = sample(trend_model(x, y), NUTS(), 3000, progress=PRINT_PROGRESS)"
   ]
  },
  {
   "cell_type": "code",
   "execution_count": null,
   "id": "59079d46-cd44-43d8-9af6-0ce109210531",
   "metadata": {
    "tags": []
   },
   "outputs": [],
   "source": [
    "Turing.Random.seed!(0)\n",
    "res = sample(trend_model(x,y), NUTS(), 3000, progress=PRINT_PROGRESS);"
   ]
  },
  {
   "cell_type": "code",
   "execution_count": null,
   "id": "9ce4bed6-e1a0-4d58-b3f8-9db3d1c08869",
   "metadata": {
    "tags": []
   },
   "outputs": [],
   "source": [
    "_, map_vector = get_map(res)\n",
    "plot_trend_model_3(air_passengers_2013_2018, map_vector)"
   ]
  },
  {
   "cell_type": "code",
   "execution_count": null,
   "id": "ff8d7faa-546f-4f67-9f0a-5991b84cfd18",
   "metadata": {},
   "outputs": [],
   "source": [
    "res = optimize(trend_model(x, y), MAP(), Optim.Options(iterations=10_000))"
   ]
  },
  {
   "cell_type": "code",
   "execution_count": null,
   "id": "8a1e9fd3-8af5-4127-9e55-53e4a39a56d8",
   "metadata": {
    "tags": []
   },
   "outputs": [],
   "source": [
    "map_vector = res.values.array\n",
    "plot_trend_model_3(air_passengers_2013_2018, map_vector)"
   ]
  },
  {
   "cell_type": "code",
   "execution_count": null,
   "id": "24eba5e7-0f46-4de2-b799-d680df6b9fc2",
   "metadata": {},
   "outputs": [],
   "source": []
  }
 ],
 "metadata": {
  "kernelspec": {
   "display_name": "Julia 1.9.1",
   "language": "julia",
   "name": "julia-1.9"
  },
  "language_info": {
   "file_extension": ".jl",
   "mimetype": "application/julia",
   "name": "julia",
   "version": "1.9.1"
  }
 },
 "nbformat": 4,
 "nbformat_minor": 5
}
