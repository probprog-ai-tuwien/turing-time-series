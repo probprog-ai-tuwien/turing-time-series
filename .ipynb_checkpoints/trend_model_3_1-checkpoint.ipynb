{
 "cells": [
  {
   "cell_type": "code",
   "execution_count": null,
   "id": "0e1c8b81-3d43-428a-8c4b-65db0b529152",
   "metadata": {
    "tags": []
   },
   "outputs": [],
   "source": [
    "using Turing\n",
    "using StatsPlots\n",
    "using Optim"
   ]
  },
  {
   "cell_type": "code",
   "execution_count": null,
   "id": "caec7a51-afbc-4e5b-b37e-97421ddd6ae5",
   "metadata": {
    "tags": []
   },
   "outputs": [],
   "source": [
    "PRINT_PROGRESS = true\n",
    "include(\"read_data.jl\")\n",
    "include(\"utils.jl\")\n",
    "include(\"lecture/plot_utils.jl\");"
   ]
  },
  {
   "cell_type": "markdown",
   "id": "7a7cec44-0290-4312-8c45-e29954f4ee2b",
   "metadata": {
    "jp-MarkdownHeadingCollapsed": true,
    "tags": []
   },
   "source": [
    "### Dataset: World-Wide Monthly Air Passengers"
   ]
  },
  {
   "cell_type": "code",
   "execution_count": null,
   "id": "1816274d-b39e-41ef-bde0-f97cced3be82",
   "metadata": {
    "tags": []
   },
   "outputs": [],
   "source": [
    "base_plot(air_passengers_2013_2018)"
   ]
  },
  {
   "cell_type": "code",
   "execution_count": null,
   "id": "e5a520f1-46c9-47d1-ba5b-3a8b7e49d870",
   "metadata": {
    "tags": []
   },
   "outputs": [],
   "source": [
    "# upwards_trend_data = air_passengers_2013_2018[2009 .<= air_passengers_2013_2018[!,\"Year\"],:]\n",
    "# base_plot(upwards_trend_data)\n",
    "\n",
    "# x = upwards_trend_data[!,\"Date\"]\n",
    "# y = upwards_trend_data[!,\"Total\"];\n",
    "\n",
    "x = air_passengers_2013_2018[!,\"Date\"]\n",
    "y = air_passengers_2013_2018[!,\"Total\"];"
   ]
  },
  {
   "cell_type": "code",
   "execution_count": null,
   "id": "22764b9e-adf6-4e49-8d1f-72fe53ec9247",
   "metadata": {
    "tags": []
   },
   "outputs": [],
   "source": [
    "@model function trend_model(x::Vector{Float64}, y)\n",
    "    slope ~ Normal(0,1)\n",
    "    intercept ~ Normal(6,1)\n",
    "    error ~ InverseGamma(2,3)\n",
    "    \n",
    "    # UPGRADE: sample the number of changepoints and multiple changepoint candidates\n",
    "    n_changepoints ~ DiscreteUniform(1,5)\n",
    "    changepoints ~ filldist(Uniform(0, x[end] - x[1]), 5)\n",
    "    adjustments ~ filldist(Normal(0,1), 5)\n",
    "    \n",
    "    k = slope\n",
    "    m = intercept\n",
    "    j = 1\n",
    "    \n",
    "    # for prior/posterior predictive check\n",
    "    if ismissing(y)\n",
    "        y = zeros(length(x))\n",
    "    end\n",
    "    \n",
    "    for i in eachindex(y)\n",
    "        t = x[i] - x[1]\n",
    "        k = slope\n",
    "        m = intercept\n",
    "        # UPGRADE: now iterate over dynamic number of changepoints\n",
    "        for j in 1:n_changepoints\n",
    "            changepoint = changepoints[j]\n",
    "            adjustment = adjustments[j]\n",
    "            if changepoint ≤ t\n",
    "                k += adjustment\n",
    "                m -= changepoint * adjustment\n",
    "            end\n",
    "        end\n",
    "        \n",
    "        y[i] ~ Normal(k * t + m, error+1e-5)\n",
    "    end\n",
    "end"
   ]
  },
  {
   "cell_type": "code",
   "execution_count": null,
   "id": "ee27e43a-e045-41e7-afe8-9e227322a8df",
   "metadata": {
    "tags": []
   },
   "outputs": [],
   "source": [
    "Turing.Random.seed!(0)\n",
    "res = sample(trend_model(x, y), NUTS(), 3000, progress=PRINT_PROGRESS)\n",
    "res"
   ]
  },
  {
   "cell_type": "code",
   "execution_count": null,
   "id": "59079d46-cd44-43d8-9af6-0ce109210531",
   "metadata": {
    "tags": []
   },
   "outputs": [],
   "source": [
    "Turing.Random.seed!(0)\n",
    "res = sample(trend_model(x,y), MH(), 3000, progress=PRINT_PROGRESS);"
   ]
  },
  {
   "cell_type": "code",
   "execution_count": null,
   "id": "9ce4bed6-e1a0-4d58-b3f8-9db3d1c08869",
   "metadata": {
    "tags": []
   },
   "outputs": [],
   "source": [
    "_, map_vector = get_map(res)\n",
    "plot_trend_model_3_1(air_passengers_2013_2018, map_vector)"
   ]
  },
  {
   "cell_type": "markdown",
   "id": "5f2cd64c-76a8-44e7-a9e3-c4942316e71e",
   "metadata": {},
   "source": [
    "## Debugging"
   ]
  },
  {
   "cell_type": "code",
   "execution_count": null,
   "id": "2021bbf2-7a01-44ac-bce2-910744ed7429",
   "metadata": {
    "tags": []
   },
   "outputs": [],
   "source": [
    "plot(res[[\"slope\", \"intercept\", \"n_changepoints\", \"changepoints[1]\", \"adjustments[1]\"]])"
   ]
  },
  {
   "cell_type": "markdown",
   "id": "66443b93-83a4-448d-8ab8-1f422f5c66e0",
   "metadata": {},
   "source": [
    "### Prior Predictive Check"
   ]
  },
  {
   "cell_type": "code",
   "execution_count": null,
   "id": "04d78d83-dc50-4d89-a2e5-71f37020c019",
   "metadata": {
    "tags": []
   },
   "outputs": [],
   "source": [
    "Turing.Random.seed!(0)\n",
    "x = air_passengers_2013_2018[!,\"Date\"]\n",
    "\n",
    "# use probalistic program as a generative model\n",
    "res_prior = sample(trend_model(x, missing), Prior(), 19, progress=false)\n",
    "\n",
    "t_min = x[1]\n",
    "t_max = x[end]\n",
    "\n",
    "p = plot(x, air_passengers_2013_2018[!,\"Total\"], legend=false, xticks=[], yticks=[])\n",
    "ps = [p]\n",
    "for i in 1:length(res_prior)\n",
    "    _, trace = get_trace(res_prior,i)\n",
    "    slope, intercept = trace[1:2]\n",
    "    n_changepoints = Int(trace[4])\n",
    "    changepoints = trace[5:9][1:n_changepoints]\n",
    "    adjustments = trace[10:14][1:n_changepoints]\n",
    "    y_from_prior = trace[15:end]\n",
    "    p = plot(x, t -> trend_model_3_1_f(t - t_min, slope, intercept, changepoints, adjustments), color=:gray, legend=false, xticks=[])#, yticks=[])\n",
    "    plot!(p, x, y_from_prior)\n",
    "    \n",
    "    cps = changepoints .+ t_min\n",
    "    vline!(p, cps[(t_min .< cps) .& (cps .< t_max)], linestyle=:dash)\n",
    "    push!(ps, p)\n",
    "end\n",
    "plot(ps..., layout=(5,4), size=(1000,1000))"
   ]
  },
  {
   "cell_type": "markdown",
   "id": "955e4018-6244-4b6c-ad3a-dce7850c46bb",
   "metadata": {},
   "source": [
    "### Fake Data Simulation"
   ]
  },
  {
   "cell_type": "code",
   "execution_count": null,
   "id": "25fd3393-2a31-4381-bdcd-c3db17664a4a",
   "metadata": {
    "tags": []
   },
   "outputs": [],
   "source": [
    "ps = []\n",
    "for i in 1:12\n",
    "    # for each of the simulated data sets ...\n",
    "    _, trace = get_trace(res_prior,i)\n",
    "    # slope, intercept = trace[1:2]\n",
    "    n_changepoints = Int(trace[4])\n",
    "    true_changepoints = trace[5:9][1:n_changepoints]\n",
    "    # adjustments = trace[10:14][1:n_changepoints]\n",
    "    y_from_prior = trace[15:end]\n",
    "\n",
    "    # ... perform posterior inference ...\n",
    "    Turing.Random.seed!(10)\n",
    "    ppc_res = sample(trend_model(x, y_from_prior), MH(), 3000, progress=false)\n",
    "\n",
    "    # ... and check if we can recover the true latents    \n",
    "    names, map_vector = get_map(ppc_res)\n",
    "    # println(names[5:9])\n",
    "    # println(names[10:14])\n",
    "\n",
    "    p = plot_trend_model_3_1((x, y_from_prior), map_vector)\n",
    "    vline!(true_changepoints .+ t_min, linestyle=:dash, color=:green)\n",
    "    plot!(p, xticks=[], yticks=[], xlabel=\"\", ylabel=\"\")\n",
    "    \n",
    "    push!(ps,p)\n",
    "end\n",
    "plot(ps..., layout=(3,4), size=(1000,600))"
   ]
  },
  {
   "cell_type": "code",
   "execution_count": null,
   "id": "7bf81b56-abf4-44bc-a12b-08fdffd2a5c9",
   "metadata": {},
   "outputs": [],
   "source": []
  }
 ],
 "metadata": {
  "kernelspec": {
   "display_name": "Julia 1.9.1",
   "language": "julia",
   "name": "julia-1.9"
  },
  "language_info": {
   "file_extension": ".jl",
   "mimetype": "application/julia",
   "name": "julia",
   "version": "1.9.1"
  }
 },
 "nbformat": 4,
 "nbformat_minor": 5
}
