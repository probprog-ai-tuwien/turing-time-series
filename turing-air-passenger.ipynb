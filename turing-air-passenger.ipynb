{
 "cells": [
  {
   "cell_type": "code",
   "execution_count": null,
   "metadata": {},
   "outputs": [],
   "source": [
    "using Turing\n",
    "using StatsPlots\n",
    "using Optim"
   ]
  },
  {
   "cell_type": "code",
   "execution_count": null,
   "metadata": {},
   "outputs": [],
   "source": [
    "include(\"read_data.jl\")\n",
    "include(\"plot_utils.jl\")"
   ]
  },
  {
   "cell_type": "markdown",
   "metadata": {},
   "source": [
    "# Iterative Bayesian Modeling with Probabilistic Programming"
   ]
  },
  {
   "cell_type": "markdown",
   "metadata": {},
   "source": [
    "### Dataset: World-Wide Monthly Air Passengers\n",
    "\n",
    "Data source: https://www.transtats.bts.gov/Data_Elements.aspx"
   ]
  },
  {
   "cell_type": "code",
   "execution_count": null,
   "metadata": {},
   "outputs": [],
   "source": [
    "function get_map(res)\n",
    "    m = res[argmax(vec(res[:lp]))]\n",
    "    m.name_map.parameters, reshape(m.value.data, :)[1:length(m.name_map.parameters)] # discard internal parameters\n",
    "end"
   ]
  },
  {
   "cell_type": "code",
   "execution_count": null,
   "metadata": {},
   "outputs": [],
   "source": [
    "function base_plot(data)\n",
    "    year_min = Int(floor(minimum(data[!,\"Date\"])))\n",
    "    year_max = Int(ceil(maximum(data[!,\"Date\"])))\n",
    "    p = plot(data[!,\"Date\"], data[!,\"Total\"],\n",
    "        legend=false, xlabel=\"year\", ylabel=\"passenger [10^7]\", xticks=year_min:year_max, xrotation=45)\n",
    "    return p\n",
    "end"
   ]
  },
  {
   "cell_type": "code",
   "execution_count": null,
   "metadata": {},
   "outputs": [],
   "source": [
    "base_plot(air_passengers_2013_2018)"
   ]
  },
  {
   "cell_type": "markdown",
   "metadata": {},
   "source": [
    "### First Start: A Linear Trend Model"
   ]
  },
  {
   "cell_type": "code",
   "execution_count": null,
   "metadata": {},
   "outputs": [],
   "source": [
    "@model function trend_model_1(x::Vector{Float64}, y::Vector{Float64})\n",
    "    slope ~ Normal(0,3)\n",
    "    intercept ~ Normal(6,3)\n",
    "    error ~ InverseGamma(1,1)\n",
    "    \n",
    "    for i in eachindex(y)\n",
    "        y[i] ~ Normal(slope * (x[i] - x[1]) + intercept, error)\n",
    "    end\n",
    "end"
   ]
  },
  {
   "cell_type": "code",
   "execution_count": null,
   "metadata": {},
   "outputs": [],
   "source": [
    "upwards_trend_data = air_passengers_2013_2018[2009 .<= air_passengers_2013_2018[!,\"Year\"],:]\n",
    "base_plot(upwards_trend_data)"
   ]
  },
  {
   "cell_type": "code",
   "execution_count": null,
   "metadata": {},
   "outputs": [],
   "source": [
    "Turing.Random.seed!(0)\n",
    "res = sample(trend_model_1(upwards_trend_data[!,\"Date\"], upwards_trend_data[!,\"Total\"]), NUTS(), 3000, progress=false)\n",
    "res"
   ]
  },
  {
   "cell_type": "code",
   "execution_count": null,
   "metadata": {},
   "outputs": [],
   "source": [
    "function plot_trend_model_1(data, slope, intercept, error)\n",
    "    p = base_plot(data)\n",
    "    t_min = data[!,\"Date\"][1]\n",
    "    plot!(p, t -> slope * (t-t_min) + intercept, color=\"red\")\n",
    "    plot!(p, t -> slope * (t-t_min) + intercept + sqrt(error), color=\"orange\")\n",
    "    plot!(p, t -> slope * (t-t_min) + intercept - sqrt(error), color=\"orange\")\n",
    "    p\n",
    "end\n",
    "plot_trend_model_1(upwards_trend_data, mean(res).nt.mean...)"
   ]
  },
  {
   "cell_type": "markdown",
   "metadata": {},
   "source": [
    "### Changing Trend"
   ]
  },
  {
   "cell_type": "code",
   "execution_count": null,
   "metadata": {},
   "outputs": [],
   "source": [
    "function trend_model_2_f(t::Real, slope::Real, intercept::Real, changepoint::Real, adjustment::Real)\n",
    "    k = slope\n",
    "    m = intercept\n",
    "    if changepoint ≤ t\n",
    "        k += adjustment\n",
    "        m -= changepoint * adjustment\n",
    "    end\n",
    "    return k * t + m\n",
    "end\n",
    "\n",
    "@model function trend_model_2(x::Vector{Float64}, y::Vector{Float64})\n",
    "    slope ~ Normal(0,3)\n",
    "    intercept ~ Normal(6,3)\n",
    "    error ~ InverseGamma(1,1)\n",
    "    changepoint ~ Uniform(0, x[end] - x[1])\n",
    "    adjustment ~ Normal(0,1)\n",
    "    for i in eachindex(y)\n",
    "        y[i] ~ Normal(trend_model_2_f(x[i]-x[1], slope, intercept, changepoint, adjustment), error)\n",
    "    end\n",
    "end"
   ]
  },
  {
   "cell_type": "code",
   "execution_count": null,
   "metadata": {},
   "outputs": [],
   "source": [
    "Turing.Random.seed!(0)\n",
    "res = sample(trend_model_2(upwards_trend_data[!,\"Date\"], upwards_trend_data[!,\"Total\"]), NUTS(), 3000, progress=false)"
   ]
  },
  {
   "cell_type": "code",
   "execution_count": null,
   "metadata": {},
   "outputs": [],
   "source": [
    "mean(res)\n",
    "plot(res)"
   ]
  },
  {
   "cell_type": "code",
   "execution_count": null,
   "metadata": {},
   "outputs": [],
   "source": [
    "function plot_trend_model_2(data, slope, intercept, error, changepoint, adjustment)\n",
    "    p = base_plot(data)\n",
    "    t_min = data[!,\"Date\"][1]\n",
    "    plot!(p, t -> trend_model_2_f(t - t_min, slope, intercept, changepoint, adjustment), color=\"red\")\n",
    "    plot!(p, t -> trend_model_2_f(t - t_min, slope, intercept, changepoint, adjustment) + sqrt(error), color=\"orange\")\n",
    "    plot!(p, t -> trend_model_2_f(t - t_min, slope, intercept, changepoint, adjustment) - sqrt(error), color=\"orange\")\n",
    "    vline!([changepoint + t_min], linestyle=:dash, color=\"black\")\n",
    "    p\n",
    "end\n",
    "_, map_vector = get_map(res)\n",
    "plot_trend_model_2(upwards_trend_data, map_vector...)"
   ]
  },
  {
   "cell_type": "code",
   "execution_count": null,
   "metadata": {},
   "outputs": [],
   "source": [
    "@model function trend_model_3(x::Vector{Float64}, y::Vector{Float64})\n",
    "    slope ~ Normal(0,3)\n",
    "    intercept ~ Normal(6,3)\n",
    "    error ~ InverseGamma(1,1)\n",
    "    tau ~ InverseGamma(1,1)\n",
    "    n_changepoints = length(y) ÷ 12 # changepoint at each year\n",
    "    adjustments ~ filldist(Laplace(0,0.1), n_changepoints)\n",
    "    \n",
    "    k = slope\n",
    "    m = intercept\n",
    "    j = 1\n",
    "    for i in eachindex(y)\n",
    "        if i % 12 == 1\n",
    "            k += adjustments[j]\n",
    "            m -= (x[i] - x[1]) * adjustments[j]\n",
    "            j += 1\n",
    "        end\n",
    "        y[i] ~ Normal(k * (x[i] - x[1]) + m, error + 1e-5)\n",
    "    end\n",
    "end"
   ]
  },
  {
   "cell_type": "code",
   "execution_count": null,
   "metadata": {},
   "outputs": [],
   "source": [
    "Turing.Random.seed!(0)\n",
    "res = sample(trend_model_3(air_passengers_2013_2018[!,\"Date\"], air_passengers_2013_2018[!,\"Total\"]), NUTS(), 3000, progress=false);"
   ]
  },
  {
   "cell_type": "code",
   "execution_count": null,
   "metadata": {},
   "outputs": [],
   "source": [
    "function trend_model_3_f(t, slope, intercept, changepoints, adjustments)\n",
    "    ix = changepoints .<= t\n",
    "    return (slope + sum(adjustments[ix])) * t + (intercept - changepoints[ix]'adjustments[ix])\n",
    "end\n",
    "\n",
    "function plot_trend_model_3(data, slope, intercept, error, adjustments)\n",
    "    p = base_plot(data)\n",
    "    x = data[!,\"Date\"]\n",
    "    t_min = x[1]\n",
    "    changepoints = x[(1:length(x)) .% 12 .== 1] .- x[1]\n",
    "    plot!(p, t -> trend_model_3_f(t - t_min, slope, intercept, changepoints, adjustments), color=\"red\")\n",
    "    plot!(p, t -> trend_model_3_f(t - t_min, slope, intercept, changepoints, adjustments) + sqrt(error), color=\"orange\")\n",
    "    plot!(p, t -> trend_model_3_f(t - t_min, slope, intercept, changepoints, adjustments) - sqrt(error), color=\"orange\")\n",
    "\n",
    "    vline!(changepoints[abs.(adjustments) .> 0.01] .+ t_min, linestyle=:dash, color=\"black\")\n",
    "    p\n",
    "end\n",
    "_, map_vector = get_map(res)\n",
    "plot_trend_model_3(air_passengers_2013_2018, map_vector[1], map_vector[2], map_vector[3], map_vector[5:end])"
   ]
  },
  {
   "cell_type": "code",
   "execution_count": null,
   "metadata": {},
   "outputs": [],
   "source": [
    "res = optimize(trend_model_3(air_passengers_2013_2018[!,\"Date\"], air_passengers_2013_2018[!,\"Total\"]), MAP(), Optim.Options(iterations=10_000))"
   ]
  },
  {
   "cell_type": "code",
   "execution_count": null,
   "metadata": {},
   "outputs": [],
   "source": [
    "map_vector = res.values.array\n",
    "plot_trend_model_3(air_passengers_2013_2018, map_vector[1], map_vector[2], map_vector[3], map_vector[5:end])"
   ]
  },
  {
   "cell_type": "markdown",
   "metadata": {},
   "source": [
    "### Seasonality"
   ]
  },
  {
   "cell_type": "code",
   "execution_count": null,
   "metadata": {},
   "outputs": [],
   "source": [
    "x = air_passengers_2013_2018[!,\"Date\"]\n",
    "y = air_passengers_2013_2018[!,\"Total\"]\n",
    "t_min = x[1]\n",
    "changepoints = x[(1:length(x)) .% 12 .== 1] .- x[1]\n",
    "slope, intercept, error, adjustments = map_vector[1], map_vector[2], map_vector[3], map_vector[5:end]\n",
    "\n",
    "y_stationary =  y .- map(t ->  trend_model_3_f(t - t_min, slope, intercept, changepoints, adjustments), x)\n",
    "\n",
    "mask = 1:48\n",
    "plot(x[mask], y_stationary[mask], label=\"air passengers without trend\")\n",
    "plot!(t -> sin(2*pi*t), label=\"sin(t)\")\n",
    "plot!(t -> cos(2*pi*t), label=\"cos(t)\")"
   ]
  },
  {
   "cell_type": "code",
   "execution_count": null,
   "metadata": {},
   "outputs": [],
   "source": [
    "@model function seasonality_model(x::Vector{Float64}, y::Vector{Float64}, N_frequencies::Int)\n",
    "    beta ~ filldist(Normal(0,1.), 2*N_frequencies)\n",
    "    error ~ InverseGamma(1,1)\n",
    "    \n",
    "    for i in eachindex(y)\n",
    "        t = x[i] - x[1]\n",
    "        s = 0\n",
    "        for n in 1:N_frequencies\n",
    "            s += beta[2*n-1] * sin(2*pi*n*t)\n",
    "            s += beta[2*n] * cos(2*pi*n*t)\n",
    "        end\n",
    "        y[i] ~ Normal(s, error)\n",
    "    end\n",
    "\n",
    "end\n",
    "\n",
    "function seasonality_component(t::Float64, N_frequencies::Int, beta::Vector{<:Real})\n",
    "    s = 0\n",
    "    for n in 1:N_frequencies\n",
    "        s += beta[2*n-1] * sin(2*pi*n*t)\n",
    "        s += beta[2*n] * cos(2*pi*n*t)\n",
    "    end\n",
    "    return s\n",
    "end"
   ]
  },
  {
   "cell_type": "code",
   "execution_count": null,
   "metadata": {},
   "outputs": [],
   "source": [
    "N_frequencies = 3\n",
    "res = optimize(seasonality_model(x, y_stationary, N_frequencies), MAP())\n",
    "beta = res.values.array\n",
    "\n",
    "mask = 1:60\n",
    "plot(x[mask], y_stationary[mask], label=\"air passengers\")\n",
    "plot!(t -> seasonality_component(t, N_frequencies, beta), label=\"seasonality model MAP\")\n"
   ]
  },
  {
   "cell_type": "markdown",
   "metadata": {},
   "source": [
    "#### Combining the Trend and Seasonality Components"
   ]
  },
  {
   "cell_type": "code",
   "execution_count": null,
   "metadata": {},
   "outputs": [],
   "source": [
    "@model function prophet(x::Vector{Float64}, y::Vector{Float64}, N_frequencies::Int)\n",
    "    slope ~ Normal(0,3)\n",
    "    intercept ~ Normal(6,3)\n",
    "    error ~ InverseGamma(1,1)\n",
    "    n_changepoints = Int(ceil(length(y) / 12)) # changepoint at each year\n",
    "    tau ~ InverseGamma(1,1)\n",
    "    adjustments ~ filldist(Laplace(0,tau+1e-5), n_changepoints)\n",
    "    beta ~ filldist(Normal(0,1.), 2*N_frequencies)\n",
    "\n",
    "    k = slope\n",
    "    m = intercept\n",
    "    j = 1\n",
    "    for i in eachindex(y)\n",
    "        t = (x[i] - x[1])\n",
    "        if i % 12 == 1\n",
    "            k += adjustments[j]\n",
    "            m -= t * adjustments[j]\n",
    "            j += 1\n",
    "        end\n",
    "        s = seasonality_component(t, N_frequencies, beta)\n",
    "\n",
    "        y[i] ~ Normal(k * t + m + s, error+1e-5)\n",
    "    end\n",
    "end"
   ]
  },
  {
   "cell_type": "code",
   "execution_count": null,
   "metadata": {},
   "outputs": [],
   "source": [
    "N_frequencies = 3\n",
    "x = air_passengers_2013_2018[!,\"Date\"]\n",
    "y = air_passengers_2013_2018[!,\"Total\"]\n",
    "\n",
    "Turing.Random.seed!(0)\n",
    "map_estimate = optimize(prophet(x, y, N_frequencies), MAP(), Optim.Options(iterations=10000))"
   ]
  },
  {
   "cell_type": "code",
   "execution_count": null,
   "metadata": {},
   "outputs": [],
   "source": [
    "function prophet_model_f(t, slope, intercept, changepoints, adjustments, N_frequencies, beta)\n",
    "    return trend_model_3_f(t, slope, intercept, changepoints, adjustments) + seasonality_component(t, N_frequencies, beta)\n",
    "end\n",
    "\n",
    "function plot_prophet_model(data, slope, intercept, error, adjustments, N_frequencies, beta)\n",
    "    p = base_plot(data)\n",
    "    x = data[!,\"Date\"]\n",
    "    t_min = x[1]\n",
    "    changepoints = x[(1:length(x)) .% 12 .== 1] .- x[1]\n",
    "    plot!(p, t -> prophet_model_f(t - t_min, slope, intercept, changepoints, adjustments, N_frequencies, beta), color=\"red\")\n",
    "    # plot!(p, t -> prophet_model_f(t - t_min, slope, intercept, changepoints, adjustments, N_frequencies, beta) + sqrt(error), color=\"orange\")\n",
    "    # plot!(p, t -> prophet_model_f(t - t_min, slope, intercept, changepoints, adjustments, N_frequencies, beta) - sqrt(error), color=\"orange\")\n",
    "\n",
    "    vline!(changepoints[abs.(adjustments) .> 0.01] .+ t_min, linestyle=:dash, color=\"black\")\n",
    "    p\n",
    "end"
   ]
  },
  {
   "cell_type": "code",
   "execution_count": null,
   "metadata": {},
   "outputs": [],
   "source": [
    "map_vector = map_estimate.values.array\n",
    "n_changepoints = length(y) ÷ 12\n",
    "\n",
    "slope, intercept, error, tau,  adjustments = map_vector[1:4]..., map_vector[5:(5+n_changepoints-1)]\n",
    "beta = map_vector[5+n_changepoints : end]\n",
    "\n",
    "plot_prophet_model(air_passengers_2013_2018, slope, intercept, error, adjustments, N_frequencies, beta)"
   ]
  },
  {
   "cell_type": "markdown",
   "metadata": {},
   "source": [
    "### Forecast"
   ]
  },
  {
   "cell_type": "code",
   "execution_count": null,
   "metadata": {},
   "outputs": [],
   "source": [
    "mean(abs, adjustments), std(adjustments), tau"
   ]
  },
  {
   "cell_type": "code",
   "execution_count": null,
   "metadata": {},
   "outputs": [],
   "source": [
    "mean(abs, rand(Laplace(0,tau),10^6))"
   ]
  },
  {
   "cell_type": "code",
   "execution_count": null,
   "metadata": {},
   "outputs": [],
   "source": [
    "p_changepoint = mean(abs.(adjustments) .> 1e-3)\n",
    "tau_changepoint = mean(abs,adjustments[abs.(adjustments) .> 1e-3])\n",
    "p_changepoint, tau_changepoint"
   ]
  },
  {
   "cell_type": "code",
   "execution_count": null,
   "metadata": {},
   "outputs": [],
   "source": [
    "mean(abs, rand(Bernoulli(p_changepoint),10^6) .* rand(Laplace(0,tau_changepoint),10^6))"
   ]
  },
  {
   "cell_type": "code",
   "execution_count": null,
   "metadata": {},
   "outputs": [],
   "source": [
    "function prophet_forecast(x::Vector{Float64}, y::Vector{Float64},\n",
    "    m::Float64, k::Float64, error::Float64, N_frequencies::Int, beta::Vector{Float64},\n",
    "    forecast::Int)\n",
    "\n",
    "    tau = mean(abs, adjustments)\n",
    "\n",
    "    n_future_changepoints = ((length(y) + forecast) ÷ 12) - (length(y) ÷ 12)\n",
    "    future_adjustments = rand(filldist(Laplace(0,tau), n_future_changepoints))\n",
    "\n",
    "    y_pred = zeros(forecast)\n",
    "    Δ = x[2] - x[1]\n",
    "    x_future = x[end]\n",
    "    i = length(y)+1\n",
    "    j = 1\n",
    "    while i <= length(y) + forecast\n",
    "        x_future += Δ\n",
    "        t = (x_future - x[1])\n",
    "\n",
    "        if i % 12 == 1\n",
    "            k += future_adjustments[j]\n",
    "            m -= t * future_adjustments[j]\n",
    "            j += 1\n",
    "        end\n",
    "\n",
    "        s = seasonality_component(t, N_frequencies, beta)\n",
    "        y_pred[i-length(y)] = rand(Normal(k * t + m + s, error))\n",
    "        i += 1\n",
    "    end\n",
    "\n",
    "    return y_pred\n",
    "end"
   ]
  },
  {
   "cell_type": "code",
   "execution_count": null,
   "metadata": {},
   "outputs": [],
   "source": [
    "Turing.Random.seed!(0)\n",
    "res = sample(prophet(x, y, N_frequencies), NUTS(), 1000, progress=false, init_params=map_estimate.values.array)"
   ]
  },
  {
   "cell_type": "code",
   "execution_count": null,
   "metadata": {},
   "outputs": [],
   "source": [
    "function sample_forecast(res, changepoints, forecast, n_samples_per_trace)\n",
    "    n_changepoints = length(changepoints)\n",
    "    y_pred = zeros(n_samples_per_trace * length(res), forecast)\n",
    "\n",
    "    j = 0\n",
    "    for i in 1:length(res)\n",
    "        trace = res[i].value.data\n",
    "\n",
    "        slope, intercept, error, tau,  adjustments = trace[1:4]..., trace[5:(5+n_changepoints-1)]\n",
    "        beta = trace[5+n_changepoints : end]\n",
    "\n",
    "        for _ in 1:n_samples_per_trace\n",
    "            j += 1\n",
    "            k = slope + sum(adjustments)\n",
    "            m = intercept - adjustments'changepoints\n",
    "            y_pred[j,:] = prophet_forecast(x,y,m,k,error,N_frequencies,beta,forecast)\n",
    "        end\n",
    "    end\n",
    "    return y_pred\n",
    "end"
   ]
  },
  {
   "cell_type": "code",
   "execution_count": null,
   "metadata": {},
   "outputs": [],
   "source": [
    "function plot_forecast(x, y, x_forecast, y_pred)\n",
    "    forecast = length(x_forecast)\n",
    "    p = plot(x, y, label=\"air passenger historic data\", xlabel=\"year\", ylabel=\"passenger [10^7]\", legend=:topleft)\n",
    "    q05 = map(i -> quantile(y_pred[:,i], 0.05), 1:forecast)\n",
    "    q50 = map(i -> quantile(y_pred[:,i], 0.5), 1:forecast)\n",
    "    q95 = map(i -> quantile(y_pred[:,i], 0.95), 1:forecast)\n",
    "    plot!(x_forecast, q50, ribbon=(q50-q05,q95-q50), label=\"forecast\")\n",
    "    return p\n",
    "end"
   ]
  },
  {
   "cell_type": "code",
   "execution_count": null,
   "metadata": {},
   "outputs": [],
   "source": [
    "n_year_forecast = 4\n",
    "forecast = n_year_forecast * 12\n",
    "x_forecast = collect(maximum(x) .+ (1:forecast)./12)\n",
    "\n",
    "y_pred = sample_forecast(res, forecast, 10)\n",
    "plot_forecast(x, y, x_forecast, y_pred)"
   ]
  },
  {
   "cell_type": "markdown",
   "metadata": {},
   "source": [
    "### Covid ...."
   ]
  },
  {
   "cell_type": "code",
   "execution_count": null,
   "metadata": {},
   "outputs": [],
   "source": [
    "base_plot(air_passengers_2013_2023)"
   ]
  },
  {
   "cell_type": "code",
   "execution_count": null,
   "metadata": {},
   "outputs": [],
   "source": [
    "N_frequencies = 3\n",
    "x = air_passengers_2013_2023[!,\"Date\"]\n",
    "y = air_passengers_2013_2023[!,\"Total\"]\n",
    "changepoints = x[(1:length(x)) .% 12 .== 1] .- x[1]\n",
    "\n",
    "Turing.Random.seed!(0)\n",
    "map_estimate = optimize(prophet(x, y, N_frequencies), MAP(), Optim.Options(iterations=10000))\n",
    "\n",
    "Turing.Random.seed!(0)\n",
    "res = sample(prophet(x, y, N_frequencies), NUTS(), 1000, progress=false, init_params=map_estimate.values.array)"
   ]
  },
  {
   "cell_type": "code",
   "execution_count": null,
   "metadata": {},
   "outputs": [],
   "source": [
    "map_vector = map_estimate.values.array\n",
    "n_changepoints = length(y) ÷ 12\n",
    "\n",
    "slope, intercept, error, tau,  adjustments = map_vector[1:4]..., map_vector[5:(5+n_changepoints-1)]\n",
    "beta = map_vector[5+n_changepoints : end]\n",
    "\n",
    "plot_prophet_model(air_passengers_2013_2023, slope, intercept, error, adjustments, N_frequencies, beta)"
   ]
  },
  {
   "cell_type": "code",
   "execution_count": null,
   "metadata": {},
   "outputs": [],
   "source": [
    "n_year_forecast = 4\n",
    "forecast = n_year_forecast * 12\n",
    "x_forecast = collect(maximum(x) .+ (1:forecast)./12)\n",
    "\n",
    "y_pred = sample_forecast(res, changepoints, forecast, 10)\n",
    "plot_forecast(x, y, x_forecast, y_pred)"
   ]
  },
  {
   "cell_type": "code",
   "execution_count": null,
   "metadata": {},
   "outputs": [],
   "source": [
    "@model function prophet_covid(x::Vector{Float64}, y::Vector{Float64}, N_frequencies::Int)\n",
    "    slope ~ Normal(0,3)\n",
    "    intercept ~ Normal(6,3)\n",
    "    error ~ InverseGamma(1,1)\n",
    "    n_changepoints = Int(ceil(length(y) / 12)) # changepoint at each year\n",
    "    tau ~ InverseGamma(1,1)\n",
    "    adjustments ~ filldist(Laplace(0,tau+1e-5), n_changepoints)\n",
    "    beta ~ filldist(Normal(0,1.), 2*N_frequencies)\n",
    "\n",
    "    shock_2020 ~ Normal(-8,1)\n",
    "    shock_2021 ~ Normal(-4,1)\n",
    "    shock_2022 ~ Normal(-2,1)\n",
    "\n",
    "    k = slope\n",
    "    m = intercept\n",
    "    j = 1\n",
    "    for i in eachindex(y)\n",
    "        t = (x[i] - x[1])\n",
    "        if i % 12 == 1\n",
    "            k += adjustments[j]\n",
    "            m -= t * adjustments[j]\n",
    "            j += 1\n",
    "        end\n",
    "        s = seasonality_component(t, N_frequencies, beta)\n",
    "\n",
    "\n",
    "        if 2020 ≤ x[i] && x[i] < 2021\n",
    "            d = shock_2020\n",
    "        elseif 2021 ≤ x[i] && x[i] < 2022\n",
    "            d = shock_2021\n",
    "        elseif 2022 ≤ x[i] && x[i] < 2023\n",
    "            d = shock_2022\n",
    "        else\n",
    "            d = 0\n",
    "        end\n",
    "\n",
    "        y[i] ~ Normal(k * t + m + s + d, error+1e-5)\n",
    "    end\n",
    "end"
   ]
  },
  {
   "cell_type": "code",
   "execution_count": null,
   "metadata": {},
   "outputs": [],
   "source": [
    "N_frequencies = 3\n",
    "x = air_passengers_2013_2023[!,\"Date\"]\n",
    "y = air_passengers_2013_2023[!,\"Total\"]\n",
    "changepoints = x[(1:length(x)) .% 12 .== 1] .- x[1]\n",
    "\n",
    "Turing.Random.seed!(0)\n",
    "map_estimate = optimize(prophet_covid(x, y, N_frequencies), MAP(), Optim.Options(iterations=10000))\n",
    "\n",
    "Turing.Random.seed!(0)\n",
    "res = sample(prophet_covid(x, y, N_frequencies), NUTS(), 1000, progress=false, init_params=map_estimate.values.array)"
   ]
  },
  {
   "cell_type": "code",
   "execution_count": null,
   "metadata": {},
   "outputs": [],
   "source": [
    "function shock_component(t::Float64, shocks::Vector{Float64})\n",
    "    if 2020 ≤ t && t < 2021\n",
    "        d = shocks[1]\n",
    "    elseif 2021 ≤ t && t < 2022\n",
    "        d = shocks[2]\n",
    "    elseif 2022 ≤ t && t < 2023\n",
    "        d = shocks[3]\n",
    "    else\n",
    "        d = 0\n",
    "    end\n",
    "end\n",
    "\n",
    "function plot_prophet_covid_model(data, slope, intercept, error, adjustments, N_frequencies, beta, shocks)\n",
    "    p = base_plot(data)\n",
    "    x = data[!,\"Date\"]\n",
    "    t_min = x[1]\n",
    "    changepoints = x[(1:length(x)) .% 12 .== 1] .- x[1]\n",
    "    plot!(p, t -> prophet_model_f(t - t_min, slope, intercept, changepoints, adjustments, N_frequencies, beta) + shock_component(t,shocks), color=\"red\")\n",
    "\n",
    "    vline!(changepoints[abs.(adjustments) .> 0.01] .+ t_min, linestyle=:dash, color=\"black\")\n",
    "    p\n",
    "end"
   ]
  },
  {
   "cell_type": "code",
   "execution_count": null,
   "metadata": {},
   "outputs": [],
   "source": [
    "map_vector = map_estimate.values.array\n",
    "n_changepoints = length(y) ÷ 12\n",
    "\n",
    "slope, intercept, error, tau,  adjustments = map_vector[1:4]..., map_vector[5:(5+n_changepoints-1)]\n",
    "beta = map_vector[5+n_changepoints : 5+n_changepoints + 2*N_frequencies-1]\n",
    "shocks = map_vector[5+n_changepoints + 2*N_frequencies : end]\n",
    "\n",
    "plot_prophet_covid_model(air_passengers_2013_2023, slope, intercept, error, adjustments, N_frequencies, beta, shocks)"
   ]
  },
  {
   "cell_type": "code",
   "execution_count": null,
   "metadata": {},
   "outputs": [],
   "source": [
    "n_year_forecast = 4\n",
    "forecast = n_year_forecast * 12\n",
    "x_forecast = collect(maximum(x) .+ (1:forecast)./12)\n",
    "\n",
    "y_pred = sample_forecast(res, changepoints, forecast, 10)\n",
    "plot_forecast(x, y, x_forecast, y_pred)"
   ]
  },
  {
   "cell_type": "code",
   "execution_count": null,
   "metadata": {},
   "outputs": [],
   "source": []
  }
 ],
 "metadata": {
  "kernelspec": {
   "display_name": "Julia 1.9.1",
   "language": "julia",
   "name": "julia-1.9"
  },
  "language_info": {
   "file_extension": ".jl",
   "mimetype": "application/julia",
   "name": "julia",
   "version": "1.9.1"
  }
 },
 "nbformat": 4,
 "nbformat_minor": 2
}
